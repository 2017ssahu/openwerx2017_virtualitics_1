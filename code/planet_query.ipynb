{
 "cells": [
  {
   "cell_type": "code",
   "execution_count": 17,
   "metadata": {
    "collapsed": false
   },
   "outputs": [],
   "source": [
    "import requests"
   ]
  },
  {
   "cell_type": "code",
   "execution_count": 16,
   "metadata": {
    "collapsed": false
   },
   "outputs": [
    {
     "data": {
      "text/plain": [
       "{u'_links': {u'_self': u'https://api.planet.com/v1/catalogs/grid-utm-25km/items/20160207_194051_1056517_RapidEye-3',\n",
       "  u'assets': u'https://api.planet.com/v1/catalogs/grid-utm-25km/items/20160207_194051_1056517_RapidEye-3/assets/'},\n",
       " u'_permissions': [],\n",
       " u'geometry': {u'coordinates': [[[-122.453686, 37.946321],\n",
       "    [-122.455279, 37.730016],\n",
       "    [-122.18294, 37.728442],\n",
       "    [-122.180551, 37.944736],\n",
       "    [-122.453686, 37.946321]]],\n",
       "  u'type': u'Polygon'},\n",
       " u'id': u'20160207_194051_1056517_RapidEye-3',\n",
       " u'properties': {u'catalog::acquired': u'2016-02-07T19:40:51Z',\n",
       "  u'catalog::black_fill': 0,\n",
       "  u'catalog::cloud_cover': 0,\n",
       "  u'catalog::grid_cell': u'1056517',\n",
       "  u'catalog::provider': u'rapideye',\n",
       "  u'catalog::quality_category': None,\n",
       "  u'catalog::resolution': 5,\n",
       "  u'catalog::satellite_id': u'RapidEye-3',\n",
       "  u'catalog::strip_id': u'24332275',\n",
       "  u'catalog::sun_azimuth': 167.27335,\n",
       "  u'catalog::sun_elevation': 36.12092,\n",
       "  u'catalog::usable_data': 1,\n",
       "  u'catalog::view_angle': -6.25024,\n",
       "  u'published': u'2016-08-18T04:01:58Z'},\n",
       " u'type': u'Feature'}"
      ]
     },
     "execution_count": 16,
     "metadata": {},
     "output_type": "execute_result"
    }
   ],
   "source": [
    "params = (('catalog::provider', 'rapideye'),)\n",
    "\n",
    "r = requests.get('https://api.planet.com/v1/catalogs/grid-utm-25km/items/20160207_194051_1056517_RapidEye-3', auth=(api_key, ''))\n",
    "r.json()"
   ]
  },
  {
   "cell_type": "code",
   "execution_count": null,
   "metadata": {
    "collapsed": true
   },
   "outputs": [],
   "source": []
  }
 ],
 "metadata": {
  "anaconda-cloud": {},
  "kernelspec": {
   "display_name": "Python [conda env:py27]",
   "language": "python",
   "name": "conda-env-py27-py"
  },
  "language_info": {
   "codemirror_mode": {
    "name": "ipython",
    "version": 2
   },
   "file_extension": ".py",
   "mimetype": "text/x-python",
   "name": "python",
   "nbconvert_exporter": "python",
   "pygments_lexer": "ipython2",
   "version": "2.7.12"
  }
 },
 "nbformat": 4,
 "nbformat_minor": 1
}
