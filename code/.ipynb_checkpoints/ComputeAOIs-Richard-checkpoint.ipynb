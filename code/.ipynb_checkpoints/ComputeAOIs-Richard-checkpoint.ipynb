{
 "cells": [
  {
   "cell_type": "code",
   "execution_count": 267,
   "metadata": {
    "collapsed": false
   },
   "outputs": [],
   "source": [
    "import numpy as np\n",
    "import csv\n",
    "import pandas as pd\n",
    "import matplotlib.pyplot as plt\n",
    "import skimage.io\n",
    "from skimage.transform import rescale, resize, downscale_local_mean\n",
    "from operator import itemgetter\n",
    "from PIL import Image, ImageDraw\n",
    "# from mpl_toolkits.basemap import Basemap\n",
    "# Make Matplotlib plots appear inline\n",
    "%matplotlib inline"
   ]
  },
  {
   "cell_type": "code",
   "execution_count": 5,
   "metadata": {
    "collapsed": false
   },
   "outputs": [
    {
     "data": {
      "text/plain": [
       "Index(['﻿FID', 'mmsi', 'imo', 'vessel_name', 'callsign', 'vessel_type',\n",
       "       'vessel_type_code', 'vessel_type_cargo', 'vessel_class', 'length',\n",
       "       'width', 'flag_country', 'flag_code', 'eta', 'draught', 'segment',\n",
       "       'from_longitude', 'from_latitude', 'longitude', 'latitude', 'sog',\n",
       "       'cog', 'rot', 'heading', 'nav_status', 'nav_status_code', 'source',\n",
       "       'ts_pos_utc', 'ts_static_utc', 'dt_pos_utc', 'dt_static_utc',\n",
       "       'vessel_type_main', 'vessel_type_sub'],\n",
       "      dtype='object')"
      ]
     },
     "execution_count": 5,
     "metadata": {},
     "output_type": "execute_result"
    }
   ],
   "source": [
    "ais_data = pd.read_csv('~/Desktop/challenge_ais.csv')\n",
    "ais_data.columns\n",
    "        "
   ]
  },
  {
   "cell_type": "code",
   "execution_count": 36,
   "metadata": {
    "collapsed": false
   },
   "outputs": [
    {
     "name": "stdout",
     "output_type": "stream",
     "text": [
      "[    0  3960  7440 21840 24840 29220 32760 35340 39900]\n",
      "[34.380099999999999, 125.13630000000001]\n"
     ]
    }
   ],
   "source": [
    "long = ais_data['longitude'].as_matrix()\n",
    "lat = ais_data['latitude'].as_matrix()\n",
    "time = pd.to_datetime(ais_data['dt_pos_utc']).as_matrix()\n",
    "time = (time - time[0]) / 1000000000\n",
    "print(time)\n",
    "last_pt = [lat[-1], long[-1]]\n",
    "print(last_pt)"
   ]
  },
  {
   "cell_type": "code",
   "execution_count": 98,
   "metadata": {
    "collapsed": false
   },
   "outputs": [
    {
     "data": {
      "text/plain": [
       "<matplotlib.collections.PathCollection at 0x1133880f0>"
      ]
     },
     "execution_count": 98,
     "metadata": {},
     "output_type": "execute_result"
    },
    {
     "data": {
      "image/png": "[encoded data removed]",
      "text/plain": [
       "<matplotlib.figure.Figure at 0x11500ae48>"
      ]
     },
     "metadata": {},
     "output_type": "display_data"
    }
   ],
   "source": [
    "plt.scatter(long, lat)"
   ]
  },
  {
   "cell_type": "code",
   "execution_count": 177,
   "metadata": {
    "collapsed": false
   },
   "outputs": [
    {
     "name": "stdout",
     "output_type": "stream",
     "text": [
      "0.322319970426\n",
      "[[-0.54019214  0.84154171  0.13816633]\n",
      " [-0.63155059  0.77533467  0.3575764 ]\n",
      " [-0.68878922  0.72496166  0.36353647]\n",
      " [-0.67744167  0.7355765   0.35090844]\n",
      " [-0.69729556  0.71678372  0.34583711]\n",
      " [-0.69866101  0.71545286  0.33914753]\n",
      " [-0.70090263  0.71325697  0.33883219]\n",
      " [-0.69334221  0.72060848  0.3445553 ]]\n"
     ]
    }
   ],
   "source": [
    "lat_long = np.vstack((lat, long)).T\n",
    "dist_traveled = []\n",
    "vel_at_points = []\n",
    "for i in range(1, len(lat_long)):\n",
    "    dist = np.sqrt(np.sum(np.square(lat_long[i] - lat_long[i-1])))\n",
    "    dist_traveled.append(dist)\n",
    "    orientation = (lat_long[i] - lat_long[i-1]) / dist\n",
    "    vel_at_points.append(np.append(orientation, 3600 * dist / (float(time[i] - time[i-1]))))\n",
    "    \n",
    "dist_traveled = np.asarray(dist_traveled)\n",
    "vel_at_points = np.asarray(vel_at_points)\n",
    "avg_vel = np.average(vel_at_points[:,2])\n",
    "print(avg_vel)\n",
    "print(vel_at_points)"
   ]
  },
  {
   "cell_type": "code",
   "execution_count": 91,
   "metadata": {
    "collapsed": true
   },
   "outputs": [],
   "source": [
    "def get_boundaries(center, width, height):\n",
    "    left = center[0] - width / 2\n",
    "    right = center[0] + width / 2\n",
    "    top = center[1] - height / 2\n",
    "    bottom = center[1] + height / 2\n",
    "    return([(left, top), (right, bottom)])\n",
    "\n",
    "def get_square(delt):\n",
    "    min_lat = last_pt[0] - avg_vel * delt\n",
    "    max_lat = last_pt[0] + avg_vel * delt\n",
    "    min_long = last_pt[1] - avg_vel * delt\n",
    "    max_long = last_pt[1] + avg_vel * delt\n",
    "    \n",
    "    return((min_lat, min_long), (max_lat, max_long))\n",
    "\n",
    "def get_circle(start_pt, delt, gran, num_top):\n",
    "    min_lat = start_pt[0] - 2 * avg_vel * delt\n",
    "    max_lat = start_pt[0] + 2 * avg_vel * delt\n",
    "    min_long = start_pt[1] - 2 * avg_vel * delt\n",
    "    max_long = start_pt[1] + 2 * avg_vel * delt\n",
    "    \n",
    "    print(min_lat, max_lat)\n",
    "    print(min_long, max_long)\n",
    "    \n",
    "    im = np.zeros(shape=gran)\n",
    "    \n",
    "    lats = np.zeros(gran[0])\n",
    "    longs = np.zeros(gran[1])\n",
    "    \n",
    "    cell_width = (max_lat - min_lat) / gran[0]\n",
    "    cell_height = (max_long - min_long) / gran[1]\n",
    "    \n",
    "    for i in range(len(lats)):\n",
    "        lats[i] = min_lat + (max_lat - min_lat) * (2*i + 1) / (2*len(lats))\n",
    "    for i in range(len(longs)):\n",
    "        longs[i] = min_long + (max_long - min_long) * (2*i + 1) / (2*len(longs))\n",
    "    \n",
    "    print(lats, longs)\n",
    "    \n",
    "    top_regions = []\n",
    "    \n",
    "    for i in range(len(lats)):\n",
    "        for j in range(len(longs)):\n",
    "            pt_dist = np.sqrt(np.sum(np.square([lats[i] - start_pt[0], longs[j] - start_pt[1]])))\n",
    "            heat = -np.absolute(pt_dist - avg_vel * delt) / avg_vel\n",
    "            im[i][j] = heat\n",
    "            top_regions.append([heat, get_boundaries([lats[i], longs[j]], cell_width, cell_height)])\n",
    "    \n",
    "    top_regions = sorted(top_regions, key=itemgetter(0))\n",
    "    top_regions = top_regions[::-1]\n",
    "    aoi = [v[1] for v in top_regions[:num_top]]\n",
    "    print(aoi)\n",
    "    \n",
    "    return im, top_regions[:num_top]\n",
    "    "
   ]
  },
  {
   "cell_type": "code",
   "execution_count": 92,
   "metadata": {
    "collapsed": false
   },
   "outputs": [
    {
     "data": {
      "text/plain": [
       "((31.156900295737941, 121.91310029573795),\n",
       " (37.603299704262056, 128.35949970426205))"
      ]
     },
     "execution_count": 92,
     "metadata": {},
     "output_type": "execute_result"
    }
   ],
   "source": [
    "get_square(10)"
   ]
  },
  {
   "cell_type": "code",
   "execution_count": 99,
   "metadata": {
    "collapsed": false
   },
   "outputs": [
    {
     "name": "stdout",
     "output_type": "stream",
     "text": [
      "27.9337005915 40.8264994085\n",
      "118.689900591 131.582699409\n",
      "[ 28.57834053  29.86762041  31.1569003   32.44618018  33.73546006\n",
      "  35.02473994  36.31401982  37.6032997   38.89257959  40.18185947] [ 119.33454053  120.62382041  121.9131003   123.20238018  124.49166006\n",
      "  125.78093994  127.07021982  128.3594997   129.64877959  130.93805947]\n",
      "[[(30.512260354885534, 125.13630000000001), (31.801540236590355, 126.42557988170483)], [(30.512260354885534, 123.84702011829518), (31.801540236590355, 125.13630000000001)], [(33.090820118295177, 121.26846035488553), (34.380100000000006, 122.55774023659036)], [(36.958659763409642, 125.13630000000001), (38.247939645114471, 126.42557988170483)], [(36.958659763409642, 123.84702011829518), (38.247939645114471, 125.13630000000001)], [(34.380099999999999, 121.26846035488553), (35.669379881704828, 122.55774023659036)], [(33.090820118295177, 127.71485976340966), (34.380100000000006, 129.00413964511449)], [(34.380099999999999, 127.71485976340966), (35.669379881704828, 129.00413964511449)], [(35.66937988170482, 126.42557988170482), (36.958659763409649, 127.71485976340965)], [(35.66937988170482, 122.55774023659036), (36.958659763409649, 123.84702011829519)]]\n"
     ]
    }
   ],
   "source": [
    "im, top = get_circle(last_pt, 10, (10, 10), 10)"
   ]
  },
  {
   "cell_type": "code",
   "execution_count": 100,
   "metadata": {
    "collapsed": false
   },
   "outputs": [
    {
     "data": {
      "image/png": "[encoded data removed]",
      "text/plain": [
       "<matplotlib.figure.Figure at 0x114e774a8>"
      ]
     },
     "metadata": {},
     "output_type": "display_data"
    }
   ],
   "source": [
    "skimage.io.imshow(im, cmap=plt.cm.viridis)\n",
    "plt.show()"
   ]
  },
  {
   "cell_type": "code",
   "execution_count": 250,
   "metadata": {
    "collapsed": true
   },
   "outputs": [],
   "source": [
    "CLIP_LOW = -20.0\n",
    "CLIP_HIGH = 20.0\n",
    "\n",
    "def get_heat_trajectory(start_pt, ranges, vel, traj, delt, gran, num_top):\n",
    "#     min_lat = start_pt[0] - 2 * vel * delt\n",
    "#     max_lat = start_pt[0] + 2 * vel * delt\n",
    "#     min_long = start_pt[1] - 2 * vel * delt\n",
    "#     max_long = start_pt[1] + 2 * vel * delt\n",
    "    \n",
    "    min_lat = ranges[0]\n",
    "    max_lat = ranges[1]\n",
    "    min_long = ranges[2]\n",
    "    max_long = ranges[3]\n",
    "    \n",
    "    best_pt = vel * delt * traj + start_pt\n",
    "    \n",
    "    print(best_pt)\n",
    "    \n",
    "    im = np.zeros(shape=gran)\n",
    "    \n",
    "    lats = np.zeros(gran[0])\n",
    "    longs = np.zeros(gran[1])\n",
    "    \n",
    "    cell_width = (max_lat - min_lat) / gran[0]\n",
    "    cell_height = (max_long - min_long) / gran[1]\n",
    "    \n",
    "    for i in range(len(lats)):\n",
    "        lats[i] = min_lat + (max_lat - min_lat) * (2*i + 1) / (2*len(lats))\n",
    "    for i in range(len(longs)):\n",
    "        longs[i] = min_long + (max_long - min_long) * (2*i + 1) / (2*len(longs))\n",
    "    \n",
    "#     print(lats, longs)\n",
    "    \n",
    "    top_regions = []\n",
    "    \n",
    "    for i in range(len(lats)):\n",
    "        for j in range(len(longs)):\n",
    "            if is_land(lats[i], longs[j]):\n",
    "                im[i][j] = CLIP_HIGH\n",
    "            else:\n",
    "                pt_dist = np.sqrt(np.sum(np.square([lats[i] - start_pt[0], longs[j] - start_pt[1]])))\n",
    "                heat = -np.absolute(pt_dist - vel * delt) / vel\n",
    "                bestpt_dist = np.sqrt(np.sum(np.square([lats[i] - best_pt[0], longs[j] - best_pt[1]])))\n",
    "                heat = heat - 2* bestpt_dist / vel\n",
    "                if heat < CLIP_LOW:\n",
    "                    heat = CLIP_LOW\n",
    "                im[i][j] = heat\n",
    "                top_regions.append([heat, get_boundaries([lats[i], longs[j]], cell_width, cell_height)])\n",
    "    \n",
    "    top_regions = sorted(top_regions, key=itemgetter(0))\n",
    "    top_regions = top_regions[::-1]\n",
    "    aoi = [v[1] for v in top_regions[:num_top]]\n",
    "    print(aoi)\n",
    "    \n",
    "    return im, top_regions[:num_top]\n",
    "    "
   ]
  },
  {
   "cell_type": "code",
   "execution_count": 282,
   "metadata": {
    "collapsed": false
   },
   "outputs": [
    {
     "name": "stdout",
     "output_type": "stream",
     "text": [
      "[  33.8214049   125.71696626]\n",
      "[[(33.780099999999997, 125.53630000000001), (33.9801, 125.7363)], [(33.780099999999997, 125.73630000000001), (33.9801, 125.9363)], [(33.580099999999995, 125.53630000000001), (33.780099999999997, 125.7363)], [(33.580099999999995, 125.73630000000001), (33.780099999999997, 125.9363)], [(33.9801, 125.73630000000001), (34.180100000000003, 125.9363)], [(33.580099999999995, 125.33630000000001), (33.780099999999997, 125.5363)], [(33.9801, 125.53630000000001), (34.180100000000003, 125.7363)], [(33.780099999999997, 125.33630000000001), (33.9801, 125.5363)], [(33.780099999999997, 125.93630000000002), (33.9801, 126.13630000000001)], [(33.380099999999999, 125.53630000000001), (33.580100000000002, 125.7363)]]\n"
     ]
    }
   ],
   "source": [
    "min_lat = last_pt[0] - 5\n",
    "max_lat = last_pt[0] + 5\n",
    "min_long = last_pt[1] - 5\n",
    "max_long = last_pt[1] + 5\n",
    "ranges = [min_lat, max_lat, min_long, max_long]\n",
    "\n",
    "im, top = get_heat_trajectory(last_pt, ranges, avg_vel, vel_at_points[-1][:2], 2.5, (50, 50), 10)\n",
    "rotated = im[::-1]"
   ]
  },
  {
   "cell_type": "code",
   "execution_count": 283,
   "metadata": {
    "collapsed": false
   },
   "outputs": [
    {
     "data": {
      "image/png": "[encoded data removed]",
      "text/plain": [
       "<matplotlib.figure.Figure at 0x1152a4390>"
      ]
     },
     "metadata": {},
     "output_type": "display_data"
    }
   ],
   "source": [
    "skimage.io.imshow(rotated, cmap=plt.cm.viridis)\n",
    "image_resized = resize(rotated, (800, 400))\n",
    "plt.show()"
   ]
  },
  {
   "cell_type": "code",
   "execution_count": 269,
   "metadata": {
    "collapsed": false
   },
   "outputs": [
    {
     "data": {
      "image/png": "[encoded data removed]",
      "text/plain": [
       "<matplotlib.figure.Figure at 0x1156504e0>"
      ]
     },
     "metadata": {},
     "output_type": "display_data"
    }
   ],
   "source": [
    "skimage.io.imshow(image_resized, cmap=plt.cm.viridis)\n",
    "plt.show()"
   ]
  },
  {
   "cell_type": "code",
   "execution_count": null,
   "metadata": {
    "collapsed": true
   },
   "outputs": [],
   "source": []
  },
  {
   "cell_type": "code",
   "execution_count": null,
   "metadata": {
    "collapsed": true
   },
   "outputs": [],
   "source": [
    "def wrapper_get_boxes(last_pt, vel, traj, delt, num_boxes):\n",
    "    "
   ]
  },
  {
   "cell_type": "code",
   "execution_count": 223,
   "metadata": {
    "collapsed": false
   },
   "outputs": [],
   "source": [
    "img = Image.open('/Users/anshulramachandran/Desktop/worldmask.png')\n",
    "worldmask = np.asarray(list(img.getdata())).reshape((5400, 10800))"
   ]
  },
  {
   "cell_type": "code",
   "execution_count": 224,
   "metadata": {
    "collapsed": true
   },
   "outputs": [],
   "source": [
    "def is_land(lat, long):\n",
    "    pixel_long = int((long + 180.0) * 10800.0 / 360.0)\n",
    "    pixel_lat = int((90.0 - lat) * 5400.0 / 180.0)\n",
    "#     worldmask2 = worldmask\n",
    "#     worldmask2[pixel_lat-500:pixel_lat+500, pixel_long-500:pixel_long+500] = 0\n",
    "#     img = Image.fromarray(np.uint8(worldmask2))\n",
    "#     img.show()\n",
    "    if worldmask[pixel_lat][pixel_long] == 0:\n",
    "        return False\n",
    "    else:\n",
    "        return True"
   ]
  },
  {
   "cell_type": "code",
   "execution_count": 226,
   "metadata": {
    "collapsed": false
   },
   "outputs": [
    {
     "data": {
      "text/plain": [
       "True"
      ]
     },
     "execution_count": 226,
     "metadata": {},
     "output_type": "execute_result"
    }
   ],
   "source": [
    "is_land(35.4, 127)"
   ]
  },
  {
   "cell_type": "code",
   "execution_count": null,
   "metadata": {
    "collapsed": true
   },
   "outputs": [],
   "source": []
  }
 ],
 "metadata": {
  "anaconda-cloud": {},
  "kernelspec": {
   "display_name": "Python [conda root]",
   "language": "python",
   "name": "conda-root-py"
  },
  "language_info": {
   "codemirror_mode": {
    "name": "ipython",
    "version": 3
   },
   "file_extension": ".py",
   "mimetype": "text/x-python",
   "name": "python",
   "nbconvert_exporter": "python",
   "pygments_lexer": "ipython3",
   "version": "3.5.2"
  }
 },
 "nbformat": 4,
 "nbformat_minor": 1
}
