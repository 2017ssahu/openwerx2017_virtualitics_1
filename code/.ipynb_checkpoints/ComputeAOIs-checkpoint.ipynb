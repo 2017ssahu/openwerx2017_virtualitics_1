{
 "cells": [
  {
   "cell_type": "code",
   "execution_count": 1,
   "metadata": {
    "collapsed": true
   },
   "outputs": [],
   "source": [
    "## Define constants\n",
    "WORLDMAP_PATH = \"/Users/siddharth/Desktop/worldmap.png\"\n",
    "AIS_DATA_PATH = '~/Desktop/challenge_ais.csv'"
   ]
  },
  {
   "cell_type": "code",
   "execution_count": 19,
   "metadata": {
    "collapsed": false
   },
   "outputs": [],
   "source": [
    "import numpy as np\n",
    "import csv\n",
    "import pandas as pd\n",
    "import matplotlib.pyplot as plt\n",
    "import skimage.io\n",
    "from skimage.transform import rescale, resize, downscale_local_mean\n",
    "from operator import itemgetter\n",
    "from PIL import Image, ImageDraw\n",
    "import math\n",
    "# from mpl_toolkits.basemap import Basemap\n",
    "# Make Matplotlib plots appear inline\n",
    "%matplotlib inline"
   ]
  },
  {
   "cell_type": "code",
   "execution_count": 3,
   "metadata": {
    "collapsed": false
   },
   "outputs": [
    {
     "data": {
      "text/plain": [
       "Index([u'﻿FID', u'mmsi', u'imo', u'vessel_name', u'callsign', u'vessel_type',\n",
       "       u'vessel_type_code', u'vessel_type_cargo', u'vessel_class', u'length',\n",
       "       u'width', u'flag_country', u'flag_code', u'eta', u'draught', u'segment',\n",
       "       u'from_longitude', u'from_latitude', u'longitude', u'latitude', u'sog',\n",
       "       u'cog', u'rot', u'heading', u'nav_status', u'nav_status_code',\n",
       "       u'source', u'ts_pos_utc', u'ts_static_utc', u'dt_pos_utc',\n",
       "       u'dt_static_utc', u'vessel_type_main', u'vessel_type_sub'],\n",
       "      dtype='object')"
      ]
     },
     "execution_count": 3,
     "metadata": {},
     "output_type": "execute_result"
    }
   ],
   "source": [
    "ais_data = pd.read_csv(AIS_DATA_PATH)\n",
    "ais_data.columns\n",
    "        "
   ]
  },
  {
   "cell_type": "code",
   "execution_count": 4,
   "metadata": {
    "collapsed": false
   },
   "outputs": [
    {
     "name": "stdout",
     "output_type": "stream",
     "text": [
      "[    0  3960  7440 21840 24840 29220 32760 35340 39900]\n",
      "[34.380099999999999, 125.13630000000001]\n"
     ]
    }
   ],
   "source": [
    "long = ais_data['longitude'].as_matrix()\n",
    "lat = ais_data['latitude'].as_matrix()\n",
    "time = pd.to_datetime(ais_data['dt_pos_utc']).as_matrix()\n",
    "time = (time - time[0]) / 1000000000\n",
    "print(time)\n",
    "last_pt = [lat[-1], long[-1]]\n",
    "print(last_pt)"
   ]
  },
  {
   "cell_type": "code",
   "execution_count": 5,
   "metadata": {
    "collapsed": false
   },
   "outputs": [
    {
     "data": {
      "text/plain": [
       "<matplotlib.collections.PathCollection at 0x109838590>"
      ]
     },
     "execution_count": 5,
     "metadata": {},
     "output_type": "execute_result"
    },
    {
     "data": {
      "image/png": "[encoded data removed]",
      "text/plain": [
       "<matplotlib.figure.Figure at 0x1095b6f10>"
      ]
     },
     "metadata": {},
     "output_type": "display_data"
    }
   ],
   "source": [
    "plt.scatter(long, lat)"
   ]
  },
  {
   "cell_type": "code",
   "execution_count": 6,
   "metadata": {
    "collapsed": false
   },
   "outputs": [
    {
     "name": "stdout",
     "output_type": "stream",
     "text": [
      "0.322319970426\n",
      "[[-0.54019214  0.84154171  0.13816633]\n",
      " [-0.63155059  0.77533467  0.3575764 ]\n",
      " [-0.68878922  0.72496166  0.36353647]\n",
      " [-0.67744167  0.7355765   0.35090844]\n",
      " [-0.69729556  0.71678372  0.34583711]\n",
      " [-0.69866101  0.71545286  0.33914753]\n",
      " [-0.70090263  0.71325697  0.33883219]\n",
      " [-0.69334221  0.72060848  0.3445553 ]]\n"
     ]
    }
   ],
   "source": [
    "lat_long = np.vstack((lat, long)).T\n",
    "dist_traveled = []\n",
    "vel_at_points = []\n",
    "for i in range(1, len(lat_long)):\n",
    "    dist = np.sqrt(np.sum(np.square(lat_long[i] - lat_long[i-1])))\n",
    "    dist_traveled.append(dist)\n",
    "    orientation = (lat_long[i] - lat_long[i-1]) / dist\n",
    "    vel_at_points.append(np.append(orientation, 3600 * dist / (float(time[i] - time[i-1]))))\n",
    "    \n",
    "dist_traveled = np.asarray(dist_traveled)\n",
    "vel_at_points = np.asarray(vel_at_points)\n",
    "avg_vel = np.average(vel_at_points[:,2])\n",
    "print(avg_vel)\n",
    "print(vel_at_points)"
   ]
  },
  {
   "cell_type": "code",
   "execution_count": 7,
   "metadata": {
    "collapsed": true
   },
   "outputs": [],
   "source": [
    "def get_boundaries(center, width, height):\n",
    "    left = center[0] - width / 2\n",
    "    right = center[0] + width / 2\n",
    "    top = center[1] - height / 2\n",
    "    bottom = center[1] + height / 2\n",
    "    return([(left, top), (right, bottom)])\n",
    "\n",
    "def get_square(delt):\n",
    "    min_lat = last_pt[0] - avg_vel * delt\n",
    "    max_lat = last_pt[0] + avg_vel * delt\n",
    "    min_long = last_pt[1] - avg_vel * delt\n",
    "    max_long = last_pt[1] + avg_vel * delt\n",
    "    \n",
    "    return((min_lat, min_long), (max_lat, max_long))\n",
    "\n",
    "def get_circle(start_pt, delt, gran, num_top):\n",
    "    min_lat = start_pt[0] - 2 * avg_vel * delt\n",
    "    max_lat = start_pt[0] + 2 * avg_vel * delt\n",
    "    min_long = start_pt[1] - 2 * avg_vel * delt\n",
    "    max_long = start_pt[1] + 2 * avg_vel * delt\n",
    "    \n",
    "    print(min_lat, max_lat)\n",
    "    print(min_long, max_long)\n",
    "    \n",
    "    im = np.zeros(shape=gran)\n",
    "    \n",
    "    lats = np.zeros(gran[0])\n",
    "    longs = np.zeros(gran[1])\n",
    "    \n",
    "    cell_width = (max_lat - min_lat) / gran[0]\n",
    "    cell_height = (max_long - min_long) / gran[1]\n",
    "    \n",
    "    for i in range(len(lats)):\n",
    "        lats[i] = min_lat + (max_lat - min_lat) * (2*i + 1) / (2*len(lats))\n",
    "    for i in range(len(longs)):\n",
    "        longs[i] = min_long + (max_long - min_long) * (2*i + 1) / (2*len(longs))\n",
    "    \n",
    "    print(lats, longs)\n",
    "    \n",
    "    top_regions = []\n",
    "    \n",
    "    for i in range(len(lats)):\n",
    "        for j in range(len(longs)):\n",
    "            pt_dist = np.sqrt(np.sum(np.square([lats[i] - start_pt[0], longs[j] - start_pt[1]])))\n",
    "            heat = -np.absolute(pt_dist - avg_vel * delt) / avg_vel\n",
    "            im[i][j] = heat\n",
    "            top_regions.append([heat, get_boundaries([lats[i], longs[j]], cell_width, cell_height)])\n",
    "    \n",
    "    top_regions = sorted(top_regions, key=itemgetter(0))\n",
    "    top_regions = top_regions[::-1]\n",
    "    aoi = [v[1] for v in top_regions[:num_top]]\n",
    "    print(aoi)\n",
    "    \n",
    "    return im, top_regions[:num_top]\n",
    "    "
   ]
  },
  {
   "cell_type": "code",
   "execution_count": 8,
   "metadata": {
    "collapsed": false
   },
   "outputs": [
    {
     "data": {
      "text/plain": [
       "((31.156900295737941, 121.91310029573795),\n",
       " (37.603299704262056, 128.35949970426205))"
      ]
     },
     "execution_count": 8,
     "metadata": {},
     "output_type": "execute_result"
    }
   ],
   "source": [
    "get_square(10)"
   ]
  },
  {
   "cell_type": "code",
   "execution_count": 9,
   "metadata": {
    "collapsed": false
   },
   "outputs": [
    {
     "name": "stdout",
     "output_type": "stream",
     "text": [
      "(27.933700591475887, 40.826499408524114)\n",
      "(118.68990059147589, 131.58269940852412)\n",
      "(array([ 28.57834053,  29.86762041,  31.1569003 ,  32.44618018,\n",
      "        33.73546006,  35.02473994,  36.31401982,  37.6032997 ,\n",
      "        38.89257959,  40.18185947]), array([ 119.33454053,  120.62382041,  121.9131003 ,  123.20238018,\n",
      "        124.49166006,  125.78093994,  127.07021982,  128.3594997 ,\n",
      "        129.64877959,  130.93805947]))\n",
      "[[(30.512260354885534, 125.13630000000001), (31.801540236590355, 126.42557988170483)], [(30.512260354885534, 123.84702011829518), (31.801540236590355, 125.13630000000001)], [(33.090820118295177, 121.26846035488553), (34.380100000000006, 122.55774023659036)], [(36.958659763409642, 125.13630000000001), (38.247939645114471, 126.42557988170483)], [(36.958659763409642, 123.84702011829518), (38.247939645114471, 125.13630000000001)], [(34.380099999999999, 121.26846035488553), (35.669379881704828, 122.55774023659036)], [(33.090820118295177, 127.71485976340966), (34.380100000000006, 129.00413964511449)], [(34.380099999999999, 127.71485976340966), (35.669379881704828, 129.00413964511449)], [(35.66937988170482, 126.42557988170482), (36.958659763409649, 127.71485976340965)], [(35.66937988170482, 122.55774023659036), (36.958659763409649, 123.84702011829519)]]\n"
     ]
    }
   ],
   "source": [
    "im, top = get_circle(last_pt, 10, (10, 10), 10)"
   ]
  },
  {
   "cell_type": "code",
   "execution_count": 10,
   "metadata": {
    "collapsed": false
   },
   "outputs": [
    {
     "data": {
      "image/png": "[encoded data removed]",
      "text/plain": [
       "<matplotlib.figure.Figure at 0x1097e0fd0>"
      ]
     },
     "metadata": {},
     "output_type": "display_data"
    }
   ],
   "source": [
    "skimage.io.imshow(im, cmap=plt.cm.viridis)\n",
    "plt.show()"
   ]
  },
  {
   "cell_type": "code",
   "execution_count": 29,
   "metadata": {
    "collapsed": true
   },
   "outputs": [],
   "source": [
    "CLIP_LOW = -20.0\n",
    "CLIP_HIGH = 20.0\n",
    "\n",
    "def dotproduct(v1, v2):\n",
    "  return sum((a*b) for a, b in zip(v1, v2))\n",
    "\n",
    "def length(v):\n",
    "  return math.sqrt(dotproduct(v, v))\n",
    "\n",
    "def angle(v1, v2):\n",
    "  return math.acos(dotproduct(v1, v2) / (length(v1) * length(v2)))\n",
    "\n",
    "\n",
    "def get_heat_trajectory(start_pt, ranges, vel, traj, delt, gran, num_top):\n",
    "#     min_lat = start_pt[0] - 2 * vel * delt\n",
    "#     max_lat = start_pt[0] + 2 * vel * delt\n",
    "#     min_long = start_pt[1] - 2 * vel * delt\n",
    "#     max_long = start_pt[1] + 2 * vel * delt\n",
    "    \n",
    "    min_lat = ranges[0]\n",
    "    max_lat = ranges[1]\n",
    "    min_long = ranges[2]\n",
    "    max_long = ranges[3]\n",
    "    \n",
    "    best_pt = vel * delt * traj + start_pt\n",
    "    \n",
    "    print(best_pt)\n",
    "    \n",
    "    im = np.zeros(shape=gran)\n",
    "    \n",
    "    lats = np.zeros(gran[0])\n",
    "    longs = np.zeros(gran[1])\n",
    "    \n",
    "    cell_width = (max_lat - min_lat) / gran[0]\n",
    "    cell_height = (max_long - min_long) / gran[1]\n",
    "    print(cell_width, cell_height)\n",
    "    \n",
    "    for i in range(len(lats)):\n",
    "        lats[i] = min_lat + (max_lat - min_lat) * (2*i + 1) / (2*len(lats))\n",
    "    for i in range(len(longs)):\n",
    "        longs[i] = min_long + (max_long - min_long) * (2*i + 1) / (2*len(longs))\n",
    "    \n",
    "#     print(lats, longs)\n",
    "    \n",
    "    # Get current contribution:\n",
    "    curr_vectors = generate_currents_ex(ranges, gran)\n",
    "    nsteps = int(vel * delt / np.sqrt(cell_width*cell_width + cell_height*cell_height))\n",
    "    start_cell = [int(np.floor((start_pt[0] - ranges[0]) / cell_width)), int(np.floor((start_pt[1] - ranges[2]) / cell_height))]\n",
    "    while(is_land(lats[start_cell[0]], longs[start_cell[1]])):\n",
    "        start_cell[0] = start_cell[0] - 1\n",
    "    print(start_cell, nsteps)\n",
    "    curr_contrib = propagate_field(curr_vectors, nsteps, start_cell, gran) \n",
    "\n",
    "    \n",
    "    top_regions = []\n",
    "    \n",
    "    for i in range(len(lats)):\n",
    "        for j in range(len(longs)):\n",
    "            if is_land(lats[i], longs[j]):\n",
    "                im[i][j] = CLIP_HIGH\n",
    "            else:\n",
    "                pt_dist = np.sqrt(np.sum(np.square([lats[i] - start_pt[0], longs[j] - start_pt[1]])))\n",
    "                heat = -np.absolute(pt_dist - vel * delt) * (1 - np.cos(angle(traj, [lats[i] - start_pt[0], longs[j] - start_pt[1]]))) / vel\n",
    "                bestpt_dist = np.sqrt(np.sum(np.square([lats[i] - best_pt[0], longs[j] - best_pt[1]])))\n",
    "                heat = heat - 2 * bestpt_dist / vel\n",
    "                heat = heat + curr_contrib[i][j]\n",
    "                if heat < CLIP_LOW:\n",
    "                    heat = CLIP_LOW\n",
    "                im[i][j] = heat\n",
    "                top_regions.append([heat, get_boundaries([lats[i], longs[j]], cell_width, cell_height)])\n",
    "    \n",
    "\n",
    "    top_regions = sorted(top_regions, key=itemgetter(0))\n",
    "    top_regions = top_regions[::-1]\n",
    "    aoi = [v[1] for v in top_regions[:num_top]]\n",
    "    print(aoi)\n",
    "    \n",
    "    return im, top_regions[:num_top]\n",
    "    "
   ]
  },
  {
   "cell_type": "code",
   "execution_count": 12,
   "metadata": {
    "collapsed": true
   },
   "outputs": [],
   "source": [
    "def generate_currents_ex(ranges, gran):\n",
    "    curr_vectors = np.zeros(shape=(gran[0], gran[1], 2))\n",
    "\n",
    "    lats = np.zeros(gran[0])\n",
    "    longs = np.zeros(gran[1])\n",
    "    \n",
    "    for i in range(len(lats)):\n",
    "        lats[i] = ranges[0] + (ranges[1] - ranges[0]) * (2*i + 1) / (2*len(lats))\n",
    "    for i in range(len(longs)):\n",
    "        longs[i] = ranges[2] + (ranges[3] - ranges[2]) * (2*i + 1) / (2*len(longs))\n",
    "\n",
    "    for i in range(len(lats)):\n",
    "        for j in range(len(longs)):\n",
    "            if is_land(lats[i], longs[j]):\n",
    "                curr_vectors[i][j] = [0.0, 0.0]\n",
    "            else:\n",
    "                curr_vectors[i][j][0] = np.sin(i * 7 / gran[0]) + 1.0\n",
    "                curr_vectors[i][j][1] = np.cos(j * 5 / gran[1]) + 1.0\n",
    "                \n",
    "    return curr_vectors"
   ]
  },
  {
   "cell_type": "code",
   "execution_count": 13,
   "metadata": {
    "collapsed": true
   },
   "outputs": [],
   "source": [
    "def is_land(lat, long):\n",
    "    pixel_long = int((long + 180.0) * 10800.0 / 360.0)\n",
    "    pixel_lat = int((90.0 - lat) * 5400.0 / 180.0)\n",
    "#     worldmask2 = worldmask[pixel_lat-200:pixel_lat+200, pixel_long-200:pixel_long+400]\n",
    "#     worldmask2[pixel_lat-500:pixel_lat+500, pixel_long-500:pixel_long+500] = 0\n",
    "#     img = Image.fromarray(np.uint8(worldmask2))\n",
    "#     img.show()\n",
    "    if worldmask[pixel_lat][pixel_long] == 0:\n",
    "        return False\n",
    "    else:\n",
    "        return True"
   ]
  },
  {
   "cell_type": "code",
   "execution_count": 14,
   "metadata": {
    "collapsed": false
   },
   "outputs": [],
   "source": [
    "img = Image.open(WORLDMAP_PATH)\n",
    "worldmask = np.asarray(list(img.getdata())).reshape((5400, 10800))"
   ]
  },
  {
   "cell_type": "code",
   "execution_count": 15,
   "metadata": {
    "collapsed": false
   },
   "outputs": [],
   "source": [
    "def propagate_field(curr_field, nsteps, start_cell, gran):\n",
    "    prob_values = np.zeros(shape=gran)\n",
    "    step_labels = np.zeros(shape=gran)\n",
    "    prob_values[start_cell[0], start_cell[1]] = nsteps\n",
    "    step_labels[start_cell[0], start_cell[1]] = 1\n",
    "    for t in range(1, 2*nsteps):\n",
    "#         print(t)\n",
    "        for i in range(gran[0]):\n",
    "            for j in range(gran[1]):\n",
    "                pv = prob_values[i][j]\n",
    "#                 if pv != 0.0:\n",
    "#                     print(pv)\n",
    "#                     print(curr_field[i][j])\n",
    "                if step_labels[i][j] == t and (curr_field[i][j][0] != 0.0 or curr_field[i][j][1] != 0.0):\n",
    "                    idir = curr_field[i][j][0]\n",
    "                    jdir = curr_field[i][j][1]\n",
    "                    sumij = np.absolute(idir) + np.absolute(jdir)\n",
    "#                     print(idir, jdir)\n",
    "                    if idir < 0 and (step_labels[i-1][j] == 0 or step_labels[i-1][j] == t + 1):\n",
    "                        prob_values[i-1][j] += pv * np.absolute(idir) / sumij\n",
    "                        step_labels[i-1][j] = t + 1\n",
    "                    elif idir >= 0 and (step_labels[i+1][j] == 0 or step_labels[i+1][j] == t + 1):\n",
    "                        prob_values[i+1][j] += pv * np.absolute(idir) / sumij\n",
    "                        step_labels[i+1][j] = t + 1\n",
    "                    if jdir < 0 and (step_labels[i][j-1] == 0 or step_labels[i][j-1] == t + 1):\n",
    "                        prob_values[i][j-1] += pv * np.absolute(jdir) / sumij\n",
    "                        step_labels[i][j-1] = t + 1\n",
    "                    elif jdir >= 0 and (step_labels[i][j+1] == 0 or step_labels[i][j+1] == t + 1):\n",
    "                        prob_values[i][j+1] += pv * np.absolute(jdir) / sumij\n",
    "                        step_labels[i][j+1] = t + 1\n",
    "    \n",
    "    for i in range(gran[0]):\n",
    "        for j in range(gran[1]):\n",
    "            if step_labels[i][j] < 0.7 * nsteps or step_labels[i][j] > 1.3 * nsteps:\n",
    "                prob_values[i][j] = 0.0\n",
    "\n",
    "    return prob_values * nsteps * 5\n",
    "\n",
    "                    "
   ]
  },
  {
   "cell_type": "code",
   "execution_count": 32,
   "metadata": {
    "collapsed": false
   },
   "outputs": [
    {
     "name": "stdout",
     "output_type": "stream",
     "text": [
      "[  33.90231053  125.63287895]\n",
      "(0.10000000000000001, 0.10000000000000001)\n",
      "([45, 50], 4)\n",
      "[[(33.880099999999999, 125.33630000000001), (33.980099999999993, 125.4363)], [(33.9801, 125.33630000000001), (34.080099999999995, 125.4363)], [(33.880099999999999, 125.4363), (33.980099999999993, 125.5363)], [(33.880099999999999, 125.53630000000001), (33.980099999999993, 125.63630000000001)], [(33.880099999999999, 125.63630000000001), (33.980099999999993, 125.7363)], [(33.780100000000004, 125.53630000000001), (33.880099999999999, 125.63630000000001)], [(33.780100000000004, 125.63630000000001), (33.880099999999999, 125.7363)], [(33.880099999999999, 125.73630000000001), (33.980099999999993, 125.83630000000001)], [(33.780100000000004, 125.4363), (33.880099999999999, 125.5363)], [(33.780100000000004, 125.73630000000001), (33.880099999999999, 125.83630000000001)]]\n"
     ]
    }
   ],
   "source": [
    "min_lat = last_pt[0] - 5\n",
    "max_lat = last_pt[0] + 6\n",
    "min_long = last_pt[1] - 5\n",
    "max_long = last_pt[1] + 8\n",
    "ranges = [min_lat, max_lat, min_long, max_long]\n",
    "\n",
    "gran = (110, 130)\n",
    "hrs_ahead = 2\n",
    "im, top = get_heat_trajectory(last_pt, ranges, vel_at_points[-1][2], vel_at_points[-1][:2], hrs_ahead, gran, 10)\n",
    "rotated = im[::-1]"
   ]
  },
  {
   "cell_type": "code",
   "execution_count": 33,
   "metadata": {
    "collapsed": false
   },
   "outputs": [
    {
     "data": {
      "image/png": "[encoded data removed]",
      "text/plain": [
       "<matplotlib.figure.Figure at 0x1099a5b90>"
      ]
     },
     "metadata": {},
     "output_type": "display_data"
    }
   ],
   "source": [
    "skimage.io.imshow(rotated, cmap=plt.cm.viridis)\n",
    "plt.show()"
   ]
  },
  {
   "cell_type": "code",
   "execution_count": 18,
   "metadata": {
    "collapsed": false
   },
   "outputs": [
    {
     "ename": "NameError",
     "evalue": "name 'image_resized' is not defined",
     "output_type": "error",
     "traceback": [
      "\u001b[0;31m---------------------------------------------------------------------------\u001b[0m",
      "\u001b[0;31mNameError\u001b[0m                                 Traceback (most recent call last)",
      "\u001b[0;32m<ipython-input-18-b6168e98514d>\u001b[0m in \u001b[0;36m<module>\u001b[0;34m()\u001b[0m\n\u001b[0;32m----> 1\u001b[0;31m \u001b[0mskimage\u001b[0m\u001b[0;34m.\u001b[0m\u001b[0mio\u001b[0m\u001b[0;34m.\u001b[0m\u001b[0mimshow\u001b[0m\u001b[0;34m(\u001b[0m\u001b[0mimage_resized\u001b[0m\u001b[0;34m,\u001b[0m \u001b[0mcmap\u001b[0m\u001b[0;34m=\u001b[0m\u001b[0mplt\u001b[0m\u001b[0;34m.\u001b[0m\u001b[0mcm\u001b[0m\u001b[0;34m.\u001b[0m\u001b[0mviridis\u001b[0m\u001b[0;34m)\u001b[0m\u001b[0;34m\u001b[0m\u001b[0m\n\u001b[0m\u001b[1;32m      2\u001b[0m \u001b[0mplt\u001b[0m\u001b[0;34m.\u001b[0m\u001b[0mshow\u001b[0m\u001b[0;34m(\u001b[0m\u001b[0;34m)\u001b[0m\u001b[0;34m\u001b[0m\u001b[0m\n",
      "\u001b[0;31mNameError\u001b[0m: name 'image_resized' is not defined"
     ]
    }
   ],
   "source": [
    "skimage.io.imshow(image_resized, cmap=plt.cm.viridis)\n",
    "plt.show()"
   ]
  },
  {
   "cell_type": "code",
   "execution_count": null,
   "metadata": {
    "collapsed": true
   },
   "outputs": [],
   "source": []
  },
  {
   "cell_type": "code",
   "execution_count": null,
   "metadata": {
    "collapsed": false
   },
   "outputs": [],
   "source": [
    "def wrapper_get_boxes(last_pt, vel, traj, delt, num_boxes):\n",
    "    pass"
   ]
  },
  {
   "cell_type": "code",
   "execution_count": null,
   "metadata": {
    "collapsed": false
   },
   "outputs": [],
   "source": [
    "is_land(35.4, 127)"
   ]
  },
  {
   "cell_type": "code",
   "execution_count": null,
   "metadata": {
    "collapsed": false
   },
   "outputs": [],
   "source": [
    "curr_vectors = generate_currents_ex(ranges, (50, 50))"
   ]
  },
  {
   "cell_type": "code",
   "execution_count": null,
   "metadata": {
    "collapsed": false
   },
   "outputs": [],
   "source": [
    "skimage.io.imshow(curr_vectors[:,:,0], cmap=plt.cm.viridis)"
   ]
  },
  {
   "cell_type": "code",
   "execution_count": null,
   "metadata": {
    "collapsed": false
   },
   "outputs": [],
   "source": [
    "skimage.io.imshow(curr_vectors[:,:,1], cmap=plt.cm.viridis)"
   ]
  },
  {
   "cell_type": "code",
   "execution_count": null,
   "metadata": {
    "collapsed": false
   },
   "outputs": [],
   "source": [
    "prob_values = propagate_field(curr_vectors, 11, [24, 25], (50, 50))"
   ]
  },
  {
   "cell_type": "code",
   "execution_count": null,
   "metadata": {
    "collapsed": false
   },
   "outputs": [],
   "source": [
    "skimage.io.imshow(prob_values, cmap=plt.cm.viridis)"
   ]
  },
  {
   "cell_type": "code",
   "execution_count": null,
   "metadata": {
    "collapsed": false
   },
   "outputs": [],
   "source": [
    "lats = np.zeros(gran[0])\n",
    "longs = np.zeros(gran[1])\n",
    "\n",
    "for i in range(len(lats)):\n",
    "    lats[i] = ranges[0] + (ranges[1] - ranges[0]) * (2*i + 1) / (2*len(lats))\n",
    "for i in range(len(longs)):\n",
    "    longs[i] = ranges[2] + (ranges[3] - ranges[2]) * (2*i + 1) / (2*len(longs))"
   ]
  },
  {
   "cell_type": "code",
   "execution_count": null,
   "metadata": {
    "collapsed": false,
    "scrolled": false
   },
   "outputs": [],
   "source": [
    "for half_hr in range(1, 5):\n",
    "    hrs_ahead = half_hr * 0.5\n",
    "    im, top = get_heat_trajectory(last_pt, ranges, avg_vel, vel_at_points[-1][:2], hrs_ahead, gran, 10)\n",
    "    jsLines = []\n",
    "    for i in range(len(lats)):\n",
    "        lat = lats[i]\n",
    "        for j in range(len(longs)):\n",
    "            if not is_land(lats[i], longs[j]) and im[i][j] > CLIP_LOW:\n",
    "                lng = longs[j]            \n",
    "                scaledImVal = (im[i][j] - CLIP_LOW) / float(CLIP_HIGH - CLIP_LOW)\n",
    "                jsLines.append(\"[%s, %s, %s]\"%(lat, lng, scaledImVal))\n",
    "    print(\"var grid%s = [\\t\"%half_hr)\n",
    "    print(\",\\n\\t\").join(jsLines)\n",
    "    print(\"]\")\n",
    "\n",
    "                    "
   ]
  },
  {
   "cell_type": "code",
   "execution_count": null,
   "metadata": {
    "collapsed": false
   },
   "outputs": [],
   "source": [
    "print(np.mean(prob_values))"
   ]
  },
  {
   "cell_type": "code",
   "execution_count": null,
   "metadata": {
    "collapsed": true
   },
   "outputs": [],
   "source": []
  }
 ],
 "metadata": {
  "anaconda-cloud": {},
  "kernelspec": {
   "display_name": "Python 2",
   "language": "python",
   "name": "python2"
  },
  "language_info": {
   "codemirror_mode": {
    "name": "ipython",
    "version": 2
   },
   "file_extension": ".py",
   "mimetype": "text/x-python",
   "name": "python",
   "nbconvert_exporter": "python",
   "pygments_lexer": "ipython2",
   "version": "2.7.11"
  }
 },
 "nbformat": 4,
 "nbformat_minor": 1
}
